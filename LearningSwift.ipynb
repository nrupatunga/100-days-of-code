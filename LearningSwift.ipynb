{
  "nbformat": 4,
  "nbformat_minor": 0,
  "metadata": {
    "colab": {
      "name": "LearningSwift.ipynb",
      "provenance": [],
      "collapsed_sections": [],
      "include_colab_link": true
    },
    "kernelspec": {
      "name": "swift",
      "display_name": "Swift"
    }
  },
  "cells": [
    {
      "cell_type": "markdown",
      "metadata": {
        "id": "view-in-github",
        "colab_type": "text"
      },
      "source": [
        "<a href=\"https://colab.research.google.com/github/nrupatunga/100-days-of-code/blob/master/LearningSwift.ipynb\" target=\"_parent\"><img src=\"https://colab.research.google.com/assets/colab-badge.svg\" alt=\"Open In Colab\"/></a>"
      ]
    },
    {
      "cell_type": "code",
      "metadata": {
        "id": "kZRlD4utdPuX",
        "colab_type": "code",
        "colab": {
          "base_uri": "https://localhost:8080/",
          "height": 34
        },
        "outputId": "1faf7a36-5782-4ff3-feb1-98bba2db417d"
      },
      "source": [
        "// Control flow in swift\n",
        "\n",
        "// Notes: In an 'if' statement the conditional must be 'bool' expression\n",
        "let individualScores = [10, 20, 30, 450, 45]\n",
        "var teamScore = 0\n",
        "\n",
        "for score in (individualScores) {\n",
        "  if score > 50 {\n",
        "    teamScore += 3\n",
        "  } else {\n",
        "    teamScore += 1\n",
        "  }\n",
        "}\n",
        "print(teamScore)"
      ],
      "execution_count": 1,
      "outputs": [
        {
          "output_type": "stream",
          "text": [
            "7\r\n"
          ],
          "name": "stdout"
        }
      ]
    },
    {
      "cell_type": "code",
      "metadata": {
        "id": "4hCJyx_bbO1n",
        "colab_type": "code",
        "colab": {
          "base_uri": "https://localhost:8080/",
          "height": 34
        },
        "outputId": "735d2003-14b8-418a-a9fa-b601a46c1fe8"
      },
      "source": [
        "// using let along with if statement\n",
        "\n",
        "// var optionalName: String? = \"Nrupatunga\"\n",
        "var optionalName: String? = nil\n",
        "var greeting = \"Hello!\"\n",
        "if let name = optionalName {\n",
        "  greeting = \"Hello, \\(name)\"\n",
        "} else {\n",
        "  greeting = \"Hello to whoever you are\"\n",
        "}\n",
        "print(greeting)"
      ],
      "execution_count": 13,
      "outputs": [
        {
          "output_type": "stream",
          "text": [
            "Hello to whoever you are\r\n"
          ],
          "name": "stdout"
        }
      ]
    },
    {
      "cell_type": "code",
      "metadata": {
        "id": "-rNmg95ebe9a",
        "colab_type": "code",
        "colab": {
          "base_uri": "https://localhost:8080/",
          "height": 34
        },
        "outputId": "53213e1b-aecb-4ad1-e033-495324525013"
      },
      "source": [
        "// If the we can use the default value for optional values using ?? syntax\n",
        "\n",
        "let nickName: String? = \"Nrupatunga\"\n",
        "let fullName: String = \"John Appleseed\"\n",
        "let informalGreeting = \"Hi \\(nickName ?? fullName)\"\n",
        "print(informalGreeting)"
      ],
      "execution_count": 18,
      "outputs": [
        {
          "output_type": "stream",
          "text": [
            "Hi Nrupatunga\r\n"
          ],
          "name": "stdout"
        }
      ]
    },
    {
      "cell_type": "code",
      "metadata": {
        "id": "2ldPGtmEdxKU",
        "colab_type": "code",
        "colab": {
          "base_uri": "https://localhost:8080/",
          "height": 34
        },
        "outputId": "eb195cf2-c854-45ed-f9b8-c2b0a9cc1403"
      },
      "source": [
        "// Switch statement, also notice that there is no need for 'break' after each case statement\n",
        "\n",
        "let vegetable = \"red pepper\"\n",
        "// let vegetable = \"watercress\"\n",
        "\n",
        "switch vegetable {\n",
        "  case \"celery\":\n",
        "    print(\"Adding some raisins and make ants on a log\")\n",
        "  case \"cucumber\", \"watercress\":\n",
        "    print(\"That would make a good tea sandwich\")\n",
        "  case let x where x.hasSuffix(\"pepper\"):\n",
        "    print(\"Is it a spicy \\(x)\")\n",
        "  default:\n",
        "    print(\"Everything tastes good in soup\")\n",
        "}"
      ],
      "execution_count": 28,
      "outputs": [
        {
          "output_type": "stream",
          "text": [
            "Is it a spicy red pepper\r\n"
          ],
          "name": "stdout"
        }
      ]
    },
    {
      "cell_type": "code",
      "metadata": {
        "id": "aUSyyvtReMFA",
        "colab_type": "code",
        "colab": {
          "base_uri": "https://localhost:8080/",
          "height": 34
        },
        "outputId": "2fe73d8a-70b8-4bfa-9b23-1fa1c82b5a3d"
      },
      "source": [
        "// To understand how to use for-in statement in swift\n",
        "\n",
        "let interestingNumbers = [\n",
        "    \"Prime\": [2, 3, 5, 7, 11, 13],\n",
        "    \"Fibonacci\": [1, 1, 2, 3, 5, 8],\n",
        "    \"Square\": [1, 4, 9, 16, 25],\n",
        "]\n",
        "\n",
        "var largest = 0\n",
        "var theKind: String? = nil\n",
        "for (kind, numbers) in interestingNumbers {\n",
        "  for number in numbers {\n",
        "    if number > largest {\n",
        "      largest = number\n",
        "      theKind = kind\n",
        "    }\n",
        "  }\n",
        "}\n",
        "print(\"The largest number is \\(largest) of kind \\(theKind)\")"
      ],
      "execution_count": 36,
      "outputs": [
        {
          "output_type": "stream",
          "text": [
            "The largest number is 25 of kind Optional(\"Square\")\r\n"
          ],
          "name": "stdout"
        }
      ]
    },
    {
      "cell_type": "code",
      "metadata": {
        "id": "MAulFf8Kftkx",
        "colab_type": "code",
        "colab": {
          "base_uri": "https://localhost:8080/",
          "height": 68
        },
        "outputId": "013d36c1-ce60-45b9-9db8-99c05f7c3a5c"
      },
      "source": [
        "var n = 2\n",
        "while n < 100 {\n",
        "  n *= 2\n",
        "}\n",
        "print(\"n = \\(n)\")\n",
        "\n",
        "var m = 2\n",
        "repeat {\n",
        "  m *= 2\n",
        "}while m < 100\n",
        "\n",
        "print(\"m = \\(m)\")\n",
        "\n",
        "var total = 0\n",
        "for i in 0..<4 {\n",
        "  total += 1\n",
        "}\n",
        "print(\"total = \\(total)\")"
      ],
      "execution_count": 42,
      "outputs": [
        {
          "output_type": "stream",
          "text": [
            "n = 128\r\n",
            "m = 128\r\n",
            "total = 4\r\n"
          ],
          "name": "stdout"
        }
      ]
    },
    {
      "cell_type": "code",
      "metadata": {
        "id": "IXNcphENg6e4",
        "colab_type": "code",
        "colab": {}
      },
      "source": [
        ""
      ],
      "execution_count": 0,
      "outputs": []
    }
  ]
}